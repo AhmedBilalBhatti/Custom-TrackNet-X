{
 "cells": [
  {
   "cell_type": "code",
   "execution_count": 1,
   "metadata": {},
   "outputs": [],
   "source": [
    "import os\n",
    "import random\n",
    "import torch\n",
    "import torch.nn as nn\n",
    "from PIL import Image\n",
    "import torch.optim as optim\n",
    "import matplotlib.pyplot as plt\n",
    "import torch.nn.functional as F\n",
    "from torchvision import transforms\n",
    "from torch.utils.data import Dataset, DataLoader\n",
    "from concurrent.futures import ThreadPoolExecutor\n",
    "from sklearn.model_selection import train_test_split"
   ]
  },
  {
   "cell_type": "markdown",
   "metadata": {},
   "source": [
    "# **Checking GPU**"
   ]
  },
  {
   "cell_type": "code",
   "execution_count": 2,
   "metadata": {},
   "outputs": [
    {
     "name": "stdout",
     "output_type": "stream",
     "text": [
      "NVIDIA GeForce RTX 2060\n"
     ]
    }
   ],
   "source": [
    "device = torch.device(\"cuda\" if torch.cuda.is_available() else \"cpu\")\n",
    "print(torch.cuda.get_device_name(device))"
   ]
  },
  {
   "cell_type": "markdown",
   "metadata": {},
   "source": [
    "# **Average Image Size**"
   ]
  },
  {
   "cell_type": "code",
   "execution_count": 3,
   "metadata": {},
   "outputs": [
    {
     "name": "stdout",
     "output_type": "stream",
     "text": [
      "Average dimensions in training images: (243.56360844936205, 214.27788660066705)\n",
      "Average dimensions in test images: (243.71741946627515, 217.27705328612143)\n"
     ]
    }
   ],
   "source": [
    "def process_image(file_path):\n",
    "    try:\n",
    "        with Image.open(file_path) as img:\n",
    "            width, height = img.size\n",
    "            return width, height\n",
    "    except Exception as e:\n",
    "        print(f\"Error processing file {file_path}: {e}\")\n",
    "        return None\n",
    "\n",
    "def calculate_avg_dimensions(image_dir):\n",
    "    total_width = 0\n",
    "    total_height = 0\n",
    "    image_count = 0\n",
    "\n",
    "    with ThreadPoolExecutor() as executor:\n",
    "        futures = []\n",
    "        for file_name in os.listdir(image_dir):\n",
    "            file_path = os.path.join(image_dir, file_name)\n",
    "            if os.path.isfile(file_path) and file_name.lower().endswith(('png', 'jpg', 'jpeg', 'bmp', 'tiff')):\n",
    "                futures.append(executor.submit(process_image, file_path))\n",
    "\n",
    "        for future in futures:\n",
    "            result = future.result()\n",
    "            if result:\n",
    "                width, height = result\n",
    "                total_width += width\n",
    "                total_height += height\n",
    "                image_count += 1\n",
    "\n",
    "    if image_count == 0:\n",
    "        return (0, 0)\n",
    "\n",
    "    avg_width = total_width / image_count\n",
    "    avg_height = total_height / image_count\n",
    "\n",
    "    return avg_width, avg_height\n",
    "\n",
    "train_dir = \"D:\\\\Computer Vision\\\\FYP\\\\TASK 1\\\\env\\\\TrackNet-X\\\\DataSet\\\\VeRi\\\\image_train\"\n",
    "test_dir = \"D:\\\\Computer Vision\\\\FYP\\\\TASK 1\\\\env\\\\TrackNet-X\\\\DataSet\\\\VeRi\\\\image_test\"\n",
    "\n",
    "train_avg_dimensions = calculate_avg_dimensions(train_dir)\n",
    "test_avg_dimensions = calculate_avg_dimensions(test_dir)\n",
    "\n",
    "print(f\"Average dimensions in training images: {train_avg_dimensions}\")\n",
    "print(f\"Average dimensions in test images: {test_avg_dimensions}\")"
   ]
  },
  {
   "cell_type": "markdown",
   "metadata": {},
   "source": [
    "# **Dataset Loading & Splitting**"
   ]
  },
  {
   "cell_type": "code",
   "execution_count": 4,
   "metadata": {},
   "outputs": [],
   "source": [
    "class CustomDataset(Dataset):\n",
    "    def __init__(self, image_dir, transform=None):\n",
    "        self.image_dir = image_dir\n",
    "        self.image_paths = []\n",
    "        self.labels = []\n",
    "        self.transform = transform\n",
    "\n",
    "        for img_name in os.listdir(image_dir):\n",
    "            if img_name.lower().endswith(('png', 'jpg', 'jpeg')):\n",
    "                img_path = os.path.join(image_dir, img_name)\n",
    "                self.image_paths.append(img_path)\n",
    "\n",
    "                label = img_name.split('_')[0]\n",
    "                self.labels.append(int(label))\n",
    "                \n",
    "    def __len__(self):\n",
    "        return len(self.image_paths)\n",
    "\n",
    "    def __getitem__(self, idx):\n",
    "        img_path = self.image_paths[idx]\n",
    "        label = self.labels[idx]\n",
    "        image = Image.open(img_path).convert(\"RGB\")\n",
    "        if self.transform:\n",
    "            image = self.transform(image)\n",
    "        return image, label"
   ]
  },
  {
   "cell_type": "code",
   "execution_count": 5,
   "metadata": {},
   "outputs": [],
   "source": [
    "transform = transforms.Compose([transforms.Resize((243, 214)), transforms.ToTensor()])\n",
    "# transform = transforms.Compose([transforms.Resize((243, 214)),transforms.ToTensor(),transforms.Normalize(mean=[0.485, 0.456, 0.406], std=[0.229, 0.224, 0.225])])\n",
    "train_dir = \"D:/Computer Vision/FYP/TASK 1/env/TrackNet-X/DataSet/VeRi/image_train\"\n",
    "dataset = CustomDataset(train_dir, transform=transform)"
   ]
  },
  {
   "cell_type": "code",
   "execution_count": 6,
   "metadata": {},
   "outputs": [
    {
     "name": "stdout",
     "output_type": "stream",
     "text": [
      "20000\n"
     ]
    }
   ],
   "source": [
    "half_dataset = torch.utils.data.Subset(dataset, range(20000))\n",
    "print((len(half_dataset)))"
   ]
  },
  {
   "cell_type": "code",
   "execution_count": 7,
   "metadata": {},
   "outputs": [],
   "source": [
    "train_set, val_set = train_test_split(half_dataset, test_size=0.2, random_state=42)"
   ]
  },
  {
   "cell_type": "code",
   "execution_count": 8,
   "metadata": {},
   "outputs": [
    {
     "name": "stdout",
     "output_type": "stream",
     "text": [
      "16000 4000\n"
     ]
    }
   ],
   "source": [
    "print(len(train_set), len(val_set))"
   ]
  },
  {
   "cell_type": "markdown",
   "metadata": {},
   "source": [
    "# **Custom CNN**"
   ]
  },
  {
   "cell_type": "code",
   "execution_count": 9,
   "metadata": {},
   "outputs": [],
   "source": [
    "# class CustomCNN(nn.Module):\n",
    "#     def __init__(self):\n",
    "#         super(CustomCNN, self).__init__()\n",
    "        \n",
    "#         # First convolution layer: 7x7 kernel, stride 5, zero padding, 12 channels\n",
    "#         self.conv1 = nn.Conv2d(in_channels=3, out_channels=12, kernel_size=7, stride=5, padding=0)\n",
    "#         self.pool1 = nn.MaxPool2d(kernel_size=2, stride=2)\n",
    "        \n",
    "#         # Second convolution layer: 3x3 kernel, stride 1, 24 channels\n",
    "#         self.conv2 = nn.Conv2d(in_channels=12, out_channels=24, kernel_size=3, stride=1)\n",
    "        \n",
    "#         # Third convolution layer: 3x3 kernel, stride 2, 32 channels\n",
    "#         self.conv3 = nn.Conv2d(in_channels=24, out_channels=32, kernel_size=3, stride=2)\n",
    "#         self.pool2 = nn.MaxPool2d(kernel_size=2, stride=2)\n",
    "        \n",
    "#         # Fourth convolution layer: 3x3 kernel, stride 2, 64 channels\n",
    "#         self.conv4 = nn.Conv2d(in_channels=32, out_channels=64, kernel_size=3, stride=2)\n",
    "#         self.pool3 = nn.MaxPool2d(kernel_size=3, stride=3)\n",
    "        \n",
    "#         # Adaptive pooling or Flatten for embedding output\n",
    "#         self.global_pool = nn.AdaptiveAvgPool2d((1, 1))\n",
    "#         self.fc = nn.Flatten()\n",
    "\n",
    "#     def forward(self, x):\n",
    "#         x = F.relu(self.conv1(x))\n",
    "#         x = self.pool1(x)\n",
    "        \n",
    "#         x = F.relu(self.conv2(x))\n",
    "#         x = F.relu(self.conv3(x))\n",
    "#         x = self.pool2(x)\n",
    "        \n",
    "#         x = F.relu(self.conv4(x))\n",
    "#         x = self.pool3(x)\n",
    "        \n",
    "#         x = self.global_pool(x)\n",
    "#         x = self.fc(x)\n",
    "#         return x\n",
    "\n",
    "class CustomCNN(nn.Module):\n",
    "    def __init__(self):\n",
    "        super(CustomCNN, self).__init__()\n",
    "        \n",
    "        # First convolution layer: 7x7 kernel, stride 5, padding 3, 12 channels\n",
    "        self.conv1 = nn.Conv2d(in_channels=3, out_channels=12, kernel_size=7, stride=5, padding=3)\n",
    "        self.pool1 = nn.MaxPool2d(kernel_size=2, stride=2)\n",
    "        \n",
    "        # Second convolution layer: 3x3 kernel, stride 1, padding 1, 24 channels\n",
    "        self.conv2 = nn.Conv2d(in_channels=12, out_channels=24, kernel_size=3, stride=1, padding=1)\n",
    "        \n",
    "        # Third convolution layer: 3x3 kernel, stride 2, padding 1, 32 channels\n",
    "        self.conv3 = nn.Conv2d(in_channels=24, out_channels=32, kernel_size=3, stride=2, padding=1)\n",
    "        self.pool2 = nn.MaxPool2d(kernel_size=2, stride=2)\n",
    "        \n",
    "        # Fourth convolution layer: 3x3 kernel, stride 2, padding 1, 64 channels\n",
    "        self.conv4 = nn.Conv2d(in_channels=32, out_channels=64, kernel_size=3, stride=2, padding=1)\n",
    "        \n",
    "        # Adaptive pooling to prevent size issues\n",
    "        self.global_pool = nn.AdaptiveAvgPool2d((1, 1))\n",
    "        self.fc = nn.Flatten()\n",
    "\n",
    "    def forward(self, x):\n",
    "        x = F.relu(self.conv1(x))\n",
    "        x = self.pool1(x)\n",
    "        \n",
    "        x = F.relu(self.conv2(x))\n",
    "        x = F.relu(self.conv3(x))\n",
    "        x = self.pool2(x)\n",
    "        \n",
    "        x = F.relu(self.conv4(x))\n",
    "        x = self.global_pool(x)\n",
    "        x = self.fc(x)\n",
    "        return x"
   ]
  },
  {
   "cell_type": "markdown",
   "metadata": {},
   "source": [
    "# **Loss Function**"
   ]
  },
  {
   "cell_type": "code",
   "execution_count": 10,
   "metadata": {},
   "outputs": [],
   "source": [
    "def triplet_loss(anchor, positive, negative, margin=1.0):\n",
    "    \"\"\"\n",
    "    Compute the triplet loss:\n",
    "    Loss = max(||anchor - positive||^2 - ||anchor - negative||^2 + margin, 0)\n",
    "    \"\"\"\n",
    "    positive_dist = F.pairwise_distance(anchor, positive, p=2)\n",
    "    negative_dist = F.pairwise_distance(anchor, negative, p=2)\n",
    "    loss = torch.relu(positive_dist - negative_dist + margin)\n",
    "    return loss.mean()"
   ]
  },
  {
   "cell_type": "code",
   "execution_count": 11,
   "metadata": {},
   "outputs": [],
   "source": [
    "def generate_triplets(dataset):\n",
    "    anchors, positives, negatives = [], [], []\n",
    "    class_dict = {}\n",
    "\n",
    "    for i in range(len(dataset)):\n",
    "        _, label = dataset[i]\n",
    "        if label not in class_dict:\n",
    "            class_dict[label] = []\n",
    "        class_dict[label].append(i)\n",
    "\n",
    "    for label in class_dict:\n",
    "        if len(class_dict[label]) < 2:\n",
    "            continue\n",
    "        for i in range(len(class_dict[label])):\n",
    "            anchor_idx = class_dict[label][i]\n",
    "            positive_idx = random.choice(class_dict[label])  # Pick a random positive\n",
    "            negative_label = random.choice(list(class_dict.keys() - {label}))  # Pick a random different label\n",
    "            negative_idx = random.choice(class_dict[negative_label])\n",
    "\n",
    "            anchors.append(anchor_idx)\n",
    "            positives.append(positive_idx)\n",
    "            negatives.append(negative_idx)\n",
    "\n",
    "    return anchors, positives, negatives"
   ]
  },
  {
   "cell_type": "code",
   "execution_count": 12,
   "metadata": {},
   "outputs": [],
   "source": [
    "train_anchors, train_positives, train_negatives = generate_triplets(train_set)\n",
    "val_anchors, val_positives, val_negatives = generate_triplets(val_set)"
   ]
  },
  {
   "cell_type": "code",
   "execution_count": 13,
   "metadata": {},
   "outputs": [],
   "source": [
    "train_loader = DataLoader([(train_set[a][0], train_set[p][0], train_set[n][0]) for a, p, n in zip(train_anchors, train_positives, train_negatives)], batch_size=16, shuffle=True)\n",
    "val_loader = DataLoader([(val_set[a][0], val_set[p][0], val_set[n][0]) for a, p, n in zip(val_anchors, val_positives, val_negatives)], batch_size=16, shuffle=False)"
   ]
  },
  {
   "cell_type": "code",
   "execution_count": 14,
   "metadata": {},
   "outputs": [],
   "source": [
    "def plot_learning_curves(train_losses, val_losses, val_accuracies, train_accuracies):\n",
    "    epochs = range(1, len(train_losses) + 1)\n",
    "    \n",
    "    plt.figure(figsize=(12, 6))\n",
    "\n",
    "    # Plot training and validation losses\n",
    "    plt.subplot(1, 2, 1)\n",
    "    plt.plot(epochs, train_losses, label='Train Loss', color='blue')\n",
    "    plt.plot(epochs, val_losses, label='Validation Loss', color='orange')\n",
    "    plt.xlabel('Epochs')\n",
    "    plt.ylabel('Loss')\n",
    "    plt.legend()\n",
    "\n",
    "    # Plot training and validation accuracy\n",
    "    plt.subplot(1, 2, 2)\n",
    "    plt.plot(epochs, train_accuracies, label='Train Accuracy', color='blue')\n",
    "    plt.plot(epochs, val_accuracies, label='Validation Accuracy', color='orange')\n",
    "    plt.xlabel('Epochs')\n",
    "    plt.ylabel('Accuracy (%)')\n",
    "    plt.legend()\n",
    "\n",
    "    plt.tight_layout()\n",
    "    plt.show()"
   ]
  },
  {
   "cell_type": "markdown",
   "metadata": {},
   "source": [
    "# **Training**"
   ]
  },
  {
   "cell_type": "code",
   "execution_count": 15,
   "metadata": {},
   "outputs": [],
   "source": [
    "# def train_model(model, train_loader, val_loader, optimizer, num_epochs=10, margin=1.0):\n",
    "#     train_losses = []\n",
    "#     val_losses = []\n",
    "#     val_accuracies = []\n",
    "\n",
    "#     for epoch in range(num_epochs):\n",
    "#         model.train()\n",
    "#         running_loss = 0.0\n",
    "\n",
    "#         for batch_idx, (anchors, positives, negatives) in enumerate(train_loader):\n",
    "#             anchors, positives, negatives = (\n",
    "#                 anchors.to(device),\n",
    "#                 positives.to(device),\n",
    "#                 negatives.to(device),\n",
    "#             )\n",
    "\n",
    "#             optimizer.zero_grad()\n",
    "#             anchor_embeds = model(anchors)\n",
    "#             positive_embeds = model(positives)\n",
    "#             negative_embeds = model(negatives)\n",
    "#             loss = triplet_loss(anchor_embeds, positive_embeds, negative_embeds, margin)\n",
    "#             loss.backward()\n",
    "#             optimizer.step()\n",
    "#             running_loss += loss.item()\n",
    "\n",
    "#         avg_train_loss = running_loss / len(train_loader)\n",
    "#         train_losses.append(avg_train_loss)\n",
    "\n",
    "#         model.eval()\n",
    "#         val_loss = 0.0\n",
    "#         correct = 0\n",
    "#         total = 0\n",
    "#         with torch.no_grad():\n",
    "#             for batch_idx, (anchors, positives, negatives) in enumerate(val_loader):\n",
    "#                 anchors, positives, negatives = (anchors.to(device),positives.to(device),negatives.to(device),)\n",
    "#                 anchor_embeds = model(anchors)\n",
    "#                 positive_embeds = model(positives)\n",
    "#                 negative_embeds = model(negatives)\n",
    "#                 loss = triplet_loss(anchor_embeds, positive_embeds, negative_embeds, margin)\n",
    "#                 val_loss += loss.item()\n",
    "\n",
    "#                 distances = torch.pairwise_distance(anchor_embeds, positive_embeds)\n",
    "#                 predicted = (distances < margin).float()\n",
    "#                 correct += (predicted == 1).sum().item()\n",
    "#                 total += len(predicted)\n",
    "\n",
    "#         avg_val_loss = val_loss / len(val_loader)\n",
    "#         val_accuracy = 100 * correct / total if total > 0 else 0\n",
    "#         val_losses.append(avg_val_loss)\n",
    "#         val_accuracies.append(val_accuracy)\n",
    "\n",
    "#         print(f\"Epoch [{epoch+1}/{num_epochs}], Train Loss: {avg_train_loss:.4f}, Validation Loss: {avg_val_loss:.4f}, Validation Accuracy: {val_accuracy:.2f}%\")\n",
    "\n",
    "#     plot_learning_curves(train_losses, val_losses, val_accuracies)\n",
    "def train_model(model, train_loader, val_loader, optimizer, num_epochs=10, margin=1.0):\n",
    "    train_losses = []\n",
    "    val_losses = []\n",
    "    val_accuracies = []\n",
    "    train_accuracies = []\n",
    "\n",
    "    for epoch in range(num_epochs):\n",
    "        model.train()\n",
    "        running_loss = 0.0\n",
    "        correct_train = 0\n",
    "        total_train = 0\n",
    "\n",
    "        for batch_idx, (anchors, positives, negatives) in enumerate(train_loader):\n",
    "            anchors, positives, negatives = (\n",
    "                anchors.to(device),\n",
    "                positives.to(device),\n",
    "                negatives.to(device),\n",
    "            )\n",
    "\n",
    "            optimizer.zero_grad()\n",
    "            anchor_embeds = model(anchors)\n",
    "            positive_embeds = model(positives)\n",
    "            negative_embeds = model(negatives)\n",
    "            loss = triplet_loss(anchor_embeds, positive_embeds, negative_embeds, margin)\n",
    "            loss.backward()\n",
    "            optimizer.step()\n",
    "            running_loss += loss.item()\n",
    "\n",
    "            # Calculate training accuracy (anchor-positive distance < anchor-negative distance)\n",
    "            distances_positive = torch.pairwise_distance(anchor_embeds, positive_embeds)\n",
    "            distances_negative = torch.pairwise_distance(anchor_embeds, negative_embeds)\n",
    "            correct_train += (distances_positive < distances_negative).sum().item()\n",
    "            total_train += len(distances_positive)\n",
    "\n",
    "        avg_train_loss = running_loss / len(train_loader)\n",
    "        train_accuracy = 100 * correct_train / total_train if total_train > 0 else 0\n",
    "        train_losses.append(avg_train_loss)\n",
    "        train_accuracies.append(train_accuracy)\n",
    "\n",
    "        # Validation step\n",
    "        model.eval()\n",
    "        val_loss = 0.0\n",
    "        correct = 0\n",
    "        total = 0\n",
    "        with torch.no_grad():\n",
    "            for batch_idx, (anchors, positives, negatives) in enumerate(val_loader):\n",
    "                anchors, positives, negatives = (anchors.to(device), positives.to(device), negatives.to(device),)\n",
    "                anchor_embeds = model(anchors)\n",
    "                positive_embeds = model(positives)\n",
    "                negative_embeds = model(negatives)\n",
    "                loss = triplet_loss(anchor_embeds, positive_embeds, negative_embeds, margin)\n",
    "                val_loss += loss.item()\n",
    "\n",
    "                distances = torch.pairwise_distance(anchor_embeds, positive_embeds)\n",
    "                predicted = (distances < margin).float()\n",
    "                correct += (predicted == 1).sum().item()\n",
    "                total += len(predicted)\n",
    "\n",
    "        avg_val_loss = val_loss / len(val_loader)\n",
    "        val_accuracy = 100 * correct / total if total > 0 else 0\n",
    "        val_losses.append(avg_val_loss)\n",
    "        val_accuracies.append(val_accuracy)\n",
    "\n",
    "        print(f\"Epoch [{epoch+1}/{num_epochs}], Train Loss: {avg_train_loss:.4f}, Train Accuracy: {train_accuracy:.2f}%, Validation Loss: {avg_val_loss:.4f}, Validation Accuracy: {val_accuracy:.2f}%\")\n",
    "\n",
    "    plot_learning_curves(train_losses, val_losses, val_accuracies, train_accuracies)"
   ]
  },
  {
   "cell_type": "code",
   "execution_count": 16,
   "metadata": {},
   "outputs": [
    {
     "name": "stdout",
     "output_type": "stream",
     "text": [
      "Epoch [1/20], Train Loss: 0.8518, Train Accuracy: 66.78%, Validation Loss: 0.7155, Validation Accuracy: 77.88%\n",
      "Epoch [2/20], Train Loss: 0.7511, Train Accuracy: 66.46%, Validation Loss: 0.7045, Validation Accuracy: 77.23%\n",
      "Epoch [3/20], Train Loss: 0.7390, Train Accuracy: 67.21%, Validation Loss: 0.6917, Validation Accuracy: 79.06%\n",
      "Epoch [4/20], Train Loss: 0.7217, Train Accuracy: 67.93%, Validation Loss: 0.6684, Validation Accuracy: 80.69%\n",
      "Epoch [5/20], Train Loss: 0.6837, Train Accuracy: 70.44%, Validation Loss: 0.6033, Validation Accuracy: 83.21%\n",
      "Epoch [6/20], Train Loss: 0.5642, Train Accuracy: 77.48%, Validation Loss: 0.4640, Validation Accuracy: 81.41%\n",
      "Epoch [7/20], Train Loss: 0.4622, Train Accuracy: 81.04%, Validation Loss: 0.4179, Validation Accuracy: 65.75%\n",
      "Epoch [8/20], Train Loss: 0.4354, Train Accuracy: 81.69%, Validation Loss: 0.4034, Validation Accuracy: 59.12%\n",
      "Epoch [9/20], Train Loss: 0.4237, Train Accuracy: 82.06%, Validation Loss: 0.3954, Validation Accuracy: 57.52%\n",
      "Epoch [10/20], Train Loss: 0.4151, Train Accuracy: 82.19%, Validation Loss: 0.3880, Validation Accuracy: 56.29%\n",
      "Epoch [11/20], Train Loss: 0.4087, Train Accuracy: 82.46%, Validation Loss: 0.3833, Validation Accuracy: 55.42%\n",
      "Epoch [12/20], Train Loss: 0.4029, Train Accuracy: 82.76%, Validation Loss: 0.3789, Validation Accuracy: 55.37%\n",
      "Epoch [13/20], Train Loss: 0.3979, Train Accuracy: 82.91%, Validation Loss: 0.3756, Validation Accuracy: 54.34%\n",
      "Epoch [14/20], Train Loss: 0.3932, Train Accuracy: 83.17%, Validation Loss: 0.3718, Validation Accuracy: 54.07%\n",
      "Epoch [15/20], Train Loss: 0.3882, Train Accuracy: 83.46%, Validation Loss: 0.3665, Validation Accuracy: 54.72%\n",
      "Epoch [16/20], Train Loss: 0.3825, Train Accuracy: 83.74%, Validation Loss: 0.3616, Validation Accuracy: 54.52%\n",
      "Epoch [17/20], Train Loss: 0.3782, Train Accuracy: 83.97%, Validation Loss: 0.3575, Validation Accuracy: 52.59%\n",
      "Epoch [18/20], Train Loss: 0.3743, Train Accuracy: 84.22%, Validation Loss: 0.3540, Validation Accuracy: 52.76%\n",
      "Epoch [19/20], Train Loss: 0.3699, Train Accuracy: 84.61%, Validation Loss: 0.3498, Validation Accuracy: 52.34%\n",
      "Epoch [20/20], Train Loss: 0.3652, Train Accuracy: 84.82%, Validation Loss: 0.3461, Validation Accuracy: 51.89%\n"
     ]
    },
    {
     "data": {
      "image/png": "[encoded data removed]",
      "text/plain": [
       "<Figure size 1200x600 with 2 Axes>"
      ]
     },
     "metadata": {},
     "output_type": "display_data"
    }
   ],
   "source": [
    "model = CustomCNN().to(device)\n",
    "optimizer = optim.AdamW(model.parameters(), lr=0.00001, weight_decay=0.00001)\n",
    "train_model(model, train_loader, val_loader, optimizer, num_epochs=20, margin=1.0)"
   ]
  }
 ],
 "metadata": {
  "kernelspec": {
   "display_name": "env",
   "language": "python",
   "name": "python3"
  },
  "language_info": {
   "codemirror_mode": {
    "name": "ipython",
    "version": 3
   },
   "file_extension": ".py",
   "mimetype": "text/x-python",
   "name": "python",
   "nbconvert_exporter": "python",
   "pygments_lexer": "ipython3",
   "version": "3.10.0"
  }
 },
 "nbformat": 4,
 "nbformat_minor": 2
}
