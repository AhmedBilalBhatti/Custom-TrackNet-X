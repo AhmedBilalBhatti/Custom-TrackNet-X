{
 "cells": [
  {
   "cell_type": "code",
   "execution_count": 1,
   "metadata": {},
   "outputs": [],
   "source": [
    "import os\n",
    "import random\n",
    "import torch\n",
    "import torch.nn as nn\n",
    "from PIL import Image\n",
    "import torch.optim as optim\n",
    "import matplotlib.pyplot as plt\n",
    "import torch.nn.functional as F\n",
    "from torchvision import transforms\n",
    "from torch.utils.data import Dataset, DataLoader\n",
    "from concurrent.futures import ThreadPoolExecutor\n",
    "from sklearn.model_selection import train_test_split\n",
    "from torch.optim.lr_scheduler import ReduceLROnPlateau"
   ]
  },
  {
   "cell_type": "markdown",
   "metadata": {},
   "source": [
    "# **Checking GPU**"
   ]
  },
  {
   "cell_type": "code",
   "execution_count": 2,
   "metadata": {},
   "outputs": [
    {
     "name": "stdout",
     "output_type": "stream",
     "text": [
      "NVIDIA GeForce RTX 2060\n"
     ]
    }
   ],
   "source": [
    "device = torch.device(\"cuda\" if torch.cuda.is_available() else \"cpu\")\n",
    "print(torch.cuda.get_device_name(device))"
   ]
  },
  {
   "cell_type": "markdown",
   "metadata": {},
   "source": [
    "# **Average Image Size**"
   ]
  },
  {
   "cell_type": "code",
   "execution_count": 3,
   "metadata": {},
   "outputs": [
    {
     "name": "stdout",
     "output_type": "stream",
     "text": [
      "Average dimensions in training images: (243.56360844936205, 214.27788660066705)\n",
      "Average dimensions in test images: (243.71741946627515, 217.27705328612143)\n"
     ]
    }
   ],
   "source": [
    "def process_image(file_path):\n",
    "    try:\n",
    "        with Image.open(file_path) as img:\n",
    "            width, height = img.size\n",
    "            return width, height\n",
    "    except Exception as e:\n",
    "        print(f\"Error processing file {file_path}: {e}\")\n",
    "        return None\n",
    "\n",
    "def calculate_avg_dimensions(image_dir):\n",
    "    total_width = 0\n",
    "    total_height = 0\n",
    "    image_count = 0\n",
    "\n",
    "    with ThreadPoolExecutor() as executor:\n",
    "        futures = []\n",
    "        for file_name in os.listdir(image_dir):\n",
    "            file_path = os.path.join(image_dir, file_name)\n",
    "            if os.path.isfile(file_path) and file_name.lower().endswith(('png', 'jpg', 'jpeg', 'bmp', 'tiff')):\n",
    "                futures.append(executor.submit(process_image, file_path))\n",
    "\n",
    "        for future in futures:\n",
    "            result = future.result()\n",
    "            if result:\n",
    "                width, height = result\n",
    "                total_width += width\n",
    "                total_height += height\n",
    "                image_count += 1\n",
    "\n",
    "    if image_count == 0:\n",
    "        return (0, 0)\n",
    "\n",
    "    avg_width = total_width / image_count\n",
    "    avg_height = total_height / image_count\n",
    "\n",
    "    return avg_width, avg_height\n",
    "\n",
    "train_dir = \"D:\\\\Computer Vision\\\\FYP\\\\TASK 1\\\\env\\\\TrackNet-X\\\\DataSet\\\\VeRi\\\\image_train\"\n",
    "test_dir = \"D:\\\\Computer Vision\\\\FYP\\\\TASK 1\\\\env\\\\TrackNet-X\\\\DataSet\\\\VeRi\\\\image_test\"\n",
    "\n",
    "train_avg_dimensions = calculate_avg_dimensions(train_dir)\n",
    "test_avg_dimensions = calculate_avg_dimensions(test_dir)\n",
    "\n",
    "print(f\"Average dimensions in training images: {train_avg_dimensions}\")\n",
    "print(f\"Average dimensions in test images: {test_avg_dimensions}\")"
   ]
  },
  {
   "cell_type": "markdown",
   "metadata": {},
   "source": [
    "# **Dataset Loading & Splitting**"
   ]
  },
  {
   "cell_type": "code",
   "execution_count": 4,
   "metadata": {},
   "outputs": [],
   "source": [
    "class CustomDataset(Dataset):\n",
    "    def __init__(self, image_dir, transform=None):\n",
    "        self.image_dir = image_dir\n",
    "        self.image_paths = []\n",
    "        self.labels = []\n",
    "        self.transform = transform\n",
    "\n",
    "        for img_name in os.listdir(image_dir):\n",
    "            if img_name.lower().endswith(('png', 'jpg', 'jpeg')):\n",
    "                img_path = os.path.join(image_dir, img_name)\n",
    "                self.image_paths.append(img_path)\n",
    "\n",
    "                label = img_name.split('_')[0]\n",
    "                self.labels.append(int(label))\n",
    "                \n",
    "    def __len__(self):\n",
    "        return len(self.image_paths)\n",
    "\n",
    "    def __getitem__(self, idx):\n",
    "        img_path = self.image_paths[idx]\n",
    "        label = self.labels[idx]\n",
    "        image = Image.open(img_path).convert(\"RGB\")\n",
    "        if self.transform:\n",
    "            image = self.transform(image)\n",
    "        return image, label"
   ]
  },
  {
   "cell_type": "code",
   "execution_count": 12,
   "metadata": {},
   "outputs": [],
   "source": [
    "transform = transforms.Compose([transforms.Resize((243, 214)), transforms.ToTensor()])\n",
    "# transform = transforms.Compose([transforms.Resize((243, 214)),transforms.ToTensor(),transforms.Normalize(mean=[0.485, 0.456, 0.406], std=[0.229, 0.224, 0.225])])\n",
    "train_dir = \"D:/Computer Vision/FYP/TASK 1/env/TrackNet-X/DataSet/VeRi/image_train\"\n",
    "dataset = CustomDataset(train_dir, transform=transform)"
   ]
  },
  {
   "cell_type": "code",
   "execution_count": 15,
   "metadata": {},
   "outputs": [
    {
     "name": "stdout",
     "output_type": "stream",
     "text": [
      "20000\n"
     ]
    }
   ],
   "source": [
    "half_dataset = torch.utils.data.Subset(dataset, range(20000))\n",
    "print((len(half_dataset)))"
   ]
  },
  {
   "cell_type": "code",
   "execution_count": null,
   "metadata": {},
   "outputs": [
    {
     "name": "stdout",
     "output_type": "stream",
     "text": [
      "Image 54: Label = 1\n",
      "Image 55: Label = 3\n",
      "Image 56: Label = 3\n",
      "Image 57: Label = 3\n",
      "Image 58: Label = 3\n",
      "Image 59: Label = 3\n",
      "Image 60: Label = 3\n"
     ]
    }
   ],
   "source": [
    "for i in range(53,60):\n",
    "    image, label = half_dataset[i]\n",
    "    print(f\"Image {i+1}: Label = {label}\")"
   ]
  },
  {
   "cell_type": "code",
   "execution_count": 22,
   "metadata": {},
   "outputs": [],
   "source": [
    "train_set, val_set = train_test_split(half_dataset, test_size=0.25, random_state=42)"
   ]
  },
  {
   "cell_type": "code",
   "execution_count": 27,
   "metadata": {},
   "outputs": [
    {
     "name": "stdout",
     "output_type": "stream",
     "text": [
      "Train Image 1: Train Label = 95\n",
      "Train Image 2: Train Label = 23\n",
      "Train Image 3: Train Label = 103\n",
      "Train Image 4: Train Label = 311\n",
      "Train Image 5: Train Label = 268\n",
      "Train Image 6: Train Label = 99\n",
      "Train Image 7: Train Label = 271\n",
      "Train Image 8: Train Label = 64\n",
      "Train Image 9: Train Label = 261\n",
      "Train Image 10: Train Label = 307\n",
      "Test Image 10: Test Label = 169\n",
      "Test Image 10: Test Label = 169\n",
      "Test Image 10: Test Label = 169\n",
      "Test Image 10: Test Label = 169\n",
      "Test Image 10: Test Label = 169\n"
     ]
    }
   ],
   "source": [
    "for i in range(10):\n",
    "    image, label = train_set[i]\n",
    "    print(f\"Train Image {i+1}: Train Label = {label}\")\n",
    "for j in range(5):\n",
    "    img, lbl = val_set[i]\n",
    "    print(f\"Test Image {i+1}: Test Label = {lbl}\")"
   ]
  },
  {
   "cell_type": "code",
   "execution_count": 29,
   "metadata": {},
   "outputs": [
    {
     "name": "stdout",
     "output_type": "stream",
     "text": [
      "15000 5000\n"
     ]
    }
   ],
   "source": [
    "print(len(train_set), len(val_set))"
   ]
  },
  {
   "cell_type": "markdown",
   "metadata": {},
   "source": [
    "# **Custom CNN**"
   ]
  },
  {
   "cell_type": "code",
   "execution_count": 30,
   "metadata": {},
   "outputs": [],
   "source": [
    "# class CustomCNN(nn.Module):\n",
    "#     def __init__(self):\n",
    "#         super(CustomCNN, self).__init__()\n",
    "        \n",
    "#         # First convolution layer: 7x7 kernel, stride 5, zero padding, 12 channels\n",
    "#         self.conv1 = nn.Conv2d(in_channels=3, out_channels=12, kernel_size=7, stride=5, padding=0)\n",
    "#         self.pool1 = nn.MaxPool2d(kernel_size=2, stride=2)\n",
    "        \n",
    "#         # Second convolution layer: 3x3 kernel, stride 1, 24 channels\n",
    "#         self.conv2 = nn.Conv2d(in_channels=12, out_channels=24, kernel_size=3, stride=1)\n",
    "        \n",
    "#         # Third convolution layer: 3x3 kernel, stride 2, 32 channels\n",
    "#         self.conv3 = nn.Conv2d(in_channels=24, out_channels=32, kernel_size=3, stride=2)\n",
    "#         self.pool2 = nn.MaxPool2d(kernel_size=2, stride=2)\n",
    "        \n",
    "#         # Fourth convolution layer: 3x3 kernel, stride 2, 64 channels\n",
    "#         self.conv4 = nn.Conv2d(in_channels=32, out_channels=64, kernel_size=3, stride=2)\n",
    "#         self.pool3 = nn.MaxPool2d(kernel_size=3, stride=3)\n",
    "        \n",
    "#         # Adaptive pooling or Flatten for embedding output\n",
    "#         self.global_pool = nn.AdaptiveAvgPool2d((1, 1))\n",
    "#         self.fc = nn.Flatten()\n",
    "\n",
    "#     def forward(self, x):\n",
    "#         x = F.relu(self.conv1(x))\n",
    "#         x = self.pool1(x)\n",
    "        \n",
    "#         x = F.relu(self.conv2(x))\n",
    "#         x = F.relu(self.conv3(x))\n",
    "#         x = self.pool2(x)\n",
    "        \n",
    "#         x = F.relu(self.conv4(x))\n",
    "#         x = self.pool3(x)\n",
    "        \n",
    "#         x = self.global_pool(x)\n",
    "#         x = self.fc(x)\n",
    "#         return x\n",
    "\n",
    "class CustomCNN(nn.Module):\n",
    "    def __init__(self):\n",
    "        super(CustomCNN, self).__init__()\n",
    "        \n",
    "        # First convolution layer: 7x7 kernel, stride 5, padding 3, 12 channels\n",
    "        self.conv1 = nn.Conv2d(in_channels=3, out_channels=12, kernel_size=7, stride=5, padding=3)\n",
    "        self.pool1 = nn.MaxPool2d(kernel_size=2, stride=2)\n",
    "        \n",
    "        # Second convolution layer: 3x3 kernel, stride 1, padding 1, 24 channels\n",
    "        self.conv2 = nn.Conv2d(in_channels=12, out_channels=24, kernel_size=3, stride=1, padding=1)\n",
    "        \n",
    "        # Third convolution layer: 3x3 kernel, stride 2, padding 1, 32 channels\n",
    "        self.conv3 = nn.Conv2d(in_channels=24, out_channels=32, kernel_size=3, stride=2, padding=1)\n",
    "        self.pool2 = nn.MaxPool2d(kernel_size=2, stride=2)\n",
    "        \n",
    "        # Fourth convolution layer: 3x3 kernel, stride 2, padding 1, 64 channels\n",
    "        self.conv4 = nn.Conv2d(in_channels=32, out_channels=64, kernel_size=3, stride=2, padding=1)\n",
    "        \n",
    "        # Adaptive pooling to prevent size issues\n",
    "        self.global_pool = nn.AdaptiveAvgPool2d((1, 1))\n",
    "        self.fc = nn.Flatten()\n",
    "\n",
    "    def forward(self, x):\n",
    "        x = F.relu(self.conv1(x))\n",
    "        x = self.pool1(x)\n",
    "        \n",
    "        x = F.relu(self.conv2(x))\n",
    "        x = F.relu(self.conv3(x))\n",
    "        x = self.pool2(x)\n",
    "        \n",
    "        x = F.relu(self.conv4(x))\n",
    "        x = self.global_pool(x)\n",
    "        x = self.fc(x)\n",
    "        return x"
   ]
  },
  {
   "cell_type": "markdown",
   "metadata": {},
   "source": [
    "# **Loss Function**"
   ]
  },
  {
   "cell_type": "code",
   "execution_count": 31,
   "metadata": {},
   "outputs": [],
   "source": [
    "def triplet_loss(anchor, positive, negative, margin=1.0):\n",
    "    \"\"\"\n",
    "    Compute the triplet loss:\n",
    "    Loss = max(||anchor - positive||^2 - ||anchor - negative||^2 + margin, 0)\n",
    "    \"\"\"\n",
    "    positive_dist = F.pairwise_distance(anchor, positive, p=2)\n",
    "    negative_dist = F.pairwise_distance(anchor, negative, p=2)\n",
    "    loss = torch.relu(positive_dist - negative_dist + margin)\n",
    "    return loss.mean()"
   ]
  },
  {
   "cell_type": "code",
   "execution_count": 32,
   "metadata": {},
   "outputs": [],
   "source": [
    "def generate_triplets(dataset):\n",
    "    anchors, positives, negatives = [], [], []\n",
    "    class_dict = {}\n",
    "\n",
    "    for i in range(len(dataset)):\n",
    "        _, label = dataset[i]\n",
    "        if label not in class_dict:\n",
    "            class_dict[label] = []\n",
    "        class_dict[label].append(i)\n",
    "\n",
    "    for label in class_dict:\n",
    "        if len(class_dict[label]) < 2:\n",
    "            continue\n",
    "        for i in range(len(class_dict[label])):\n",
    "            anchor_idx = class_dict[label][i]\n",
    "            positive_idx = random.choice(class_dict[label])  # Pick a random positive\n",
    "            negative_label = random.choice(list(class_dict.keys() - {label}))  # Pick a random different label\n",
    "            negative_idx = random.choice(class_dict[negative_label])\n",
    "\n",
    "            anchors.append(anchor_idx)\n",
    "            positives.append(positive_idx)\n",
    "            negatives.append(negative_idx)\n",
    "\n",
    "    return anchors, positives, negatives"
   ]
  },
  {
   "cell_type": "code",
   "execution_count": 33,
   "metadata": {},
   "outputs": [],
   "source": [
    "train_anchors, train_positives, train_negatives = generate_triplets(train_set)\n",
    "val_anchors, val_positives, val_negatives = generate_triplets(val_set)"
   ]
  },
  {
   "cell_type": "code",
   "execution_count": 34,
   "metadata": {},
   "outputs": [],
   "source": [
    "train_loader = DataLoader([(train_set[a][0], train_set[p][0], train_set[n][0]) for a, p, n in zip(train_anchors, train_positives, train_negatives)], batch_size=16, shuffle=True)\n",
    "val_loader = DataLoader([(val_set[a][0], val_set[p][0], val_set[n][0]) for a, p, n in zip(val_anchors, val_positives, val_negatives)], batch_size=16, shuffle=False)"
   ]
  },
  {
   "cell_type": "code",
   "execution_count": 35,
   "metadata": {},
   "outputs": [],
   "source": [
    "def plot_learning_curves(train_losses, val_losses, val_accuracies, train_accuracies):\n",
    "    epochs = range(1, len(train_losses) + 1)\n",
    "    \n",
    "    plt.figure(figsize=(12, 6))\n",
    "\n",
    "    # Plot training and validation losses\n",
    "    plt.subplot(1, 2, 1)\n",
    "    plt.plot(epochs, train_losses, label='Train Loss', color='blue')\n",
    "    plt.plot(epochs, val_losses, label='Validation Loss', color='orange')\n",
    "    plt.xlabel('Epochs')\n",
    "    plt.ylabel('Loss')\n",
    "    plt.legend()\n",
    "\n",
    "    # Plot training and validation accuracy\n",
    "    plt.subplot(1, 2, 2)\n",
    "    plt.plot(epochs, train_accuracies, label='Train Accuracy', color='blue')\n",
    "    plt.plot(epochs, val_accuracies, label='Validation Accuracy', color='orange')\n",
    "    plt.xlabel('Epochs')\n",
    "    plt.ylabel('Accuracy (%)')\n",
    "    plt.legend()\n",
    "\n",
    "    plt.tight_layout()\n",
    "    plt.show()"
   ]
  },
  {
   "cell_type": "markdown",
   "metadata": {},
   "source": [
    "# **Training**"
   ]
  },
  {
   "cell_type": "code",
   "execution_count": 36,
   "metadata": {},
   "outputs": [],
   "source": [
    "def train_model(model, train_loader, val_loader, optimizer, num_epochs, margin):\n",
    "    train_losses = []\n",
    "    val_losses = []\n",
    "    val_accuracies = []\n",
    "    train_accuracies = []\n",
    "\n",
    "    for epoch in range(num_epochs):\n",
    "        model.train()\n",
    "        running_loss = 0.0\n",
    "        correct_train = 0\n",
    "        total_train = 0\n",
    "\n",
    "        for batch_idx, (anchors, positives, negatives) in enumerate(train_loader):\n",
    "            anchors, positives, negatives = (\n",
    "                anchors.to(device),\n",
    "                positives.to(device),\n",
    "                negatives.to(device),\n",
    "            )\n",
    "\n",
    "            optimizer.zero_grad()\n",
    "            anchor_embeds = model(anchors)\n",
    "            positive_embeds = model(positives)\n",
    "            negative_embeds = model(negatives)\n",
    "            loss = triplet_loss(anchor_embeds, positive_embeds, negative_embeds, margin)\n",
    "            loss.backward()\n",
    "            optimizer.step()\n",
    "            running_loss += loss.item()\n",
    "\n",
    "            # Calculate training accuracy (anchor-positive distance < anchor-negative distance)\n",
    "            distances_positive = torch.pairwise_distance(anchor_embeds, positive_embeds)\n",
    "            distances_negative = torch.pairwise_distance(anchor_embeds, negative_embeds)\n",
    "            correct_train += (distances_positive < distances_negative).sum().item()\n",
    "            total_train += len(distances_positive)\n",
    "\n",
    "        avg_train_loss = running_loss / len(train_loader)\n",
    "        train_accuracy = 100 * correct_train / total_train if total_train > 0 else 0\n",
    "        train_losses.append(avg_train_loss)\n",
    "        train_accuracies.append(train_accuracy)\n",
    "\n",
    "        # Validation step\n",
    "        model.eval()\n",
    "        val_loss = 0.0\n",
    "        correct = 0\n",
    "        total = 0\n",
    "        with torch.no_grad():\n",
    "            for batch_idx, (anchors, positives, negatives) in enumerate(val_loader):\n",
    "                anchors, positives, negatives = (anchors.to(device), positives.to(device), negatives.to(device),)\n",
    "                anchor_embeds = model(anchors)\n",
    "                positive_embeds = model(positives)\n",
    "                negative_embeds = model(negatives)\n",
    "                loss = triplet_loss(anchor_embeds, positive_embeds, negative_embeds, margin)\n",
    "                val_loss += loss.item()\n",
    "\n",
    "                distances = torch.pairwise_distance(anchor_embeds, positive_embeds)\n",
    "                predicted = (distances < margin).float()\n",
    "                correct += (predicted == 1).sum().item()\n",
    "                total += len(predicted)\n",
    "\n",
    "        avg_val_loss = val_loss / len(val_loader)\n",
    "        val_accuracy = 100 * correct / total if total > 0 else 0\n",
    "        val_losses.append(avg_val_loss)\n",
    "        val_accuracies.append(val_accuracy)\n",
    "\n",
    "        print(f\"Epoch [{epoch+1}/{num_epochs}], Train Loss: {avg_train_loss:.4f}, Train Accuracy: {train_accuracy:.2f}%, Validation Loss: {avg_val_loss:.4f}, Validation Accuracy: {val_accuracy:.2f}%\")\n",
    "\n",
    "    plot_learning_curves(train_losses, val_losses, val_accuracies, train_accuracies)\n",
    "\n",
    "\n",
    "\n",
    "\n",
    "\n",
    "# def train_model(model, train_loader, val_loader, optimizer, num_epochs, margin):\n",
    "#     train_losses = []\n",
    "#     val_losses = []\n",
    "#     val_accuracies = []\n",
    "#     train_accuracies = []\n",
    "\n",
    "#     # Initialize the scheduler\n",
    "#     scheduler = ReduceLROnPlateau(optimizer, mode='min', factor=0.1, patience=3, verbose=True)\n",
    "\n",
    "#     for epoch in range(num_epochs):\n",
    "#         model.train()\n",
    "#         running_loss = 0.0\n",
    "#         correct_train = 0\n",
    "#         total_train = 0\n",
    "\n",
    "#         for batch_idx, (anchors, positives, negatives) in enumerate(train_loader):\n",
    "#             anchors, positives, negatives = (\n",
    "#                 anchors.to(device),\n",
    "#                 positives.to(device),\n",
    "#                 negatives.to(device),\n",
    "#             )\n",
    "\n",
    "#             optimizer.zero_grad()\n",
    "#             anchor_embeds = model(anchors)\n",
    "#             positive_embeds = model(positives)\n",
    "#             negative_embeds = model(negatives)\n",
    "#             loss = triplet_loss(anchor_embeds, positive_embeds, negative_embeds, margin)\n",
    "#             loss.backward()\n",
    "#             optimizer.step()\n",
    "#             running_loss += loss.item()\n",
    "\n",
    "#             # Calculate training accuracy (anchor-positive distance < anchor-negative distance)\n",
    "#             distances_positive = torch.pairwise_distance(anchor_embeds, positive_embeds)\n",
    "#             distances_negative = torch.pairwise_distance(anchor_embeds, negative_embeds)\n",
    "#             correct_train += (distances_positive < distances_negative).sum().item()\n",
    "#             total_train += len(distances_positive)\n",
    "\n",
    "#         avg_train_loss = running_loss / len(train_loader)\n",
    "#         train_accuracy = 100 * correct_train / total_train if total_train > 0 else 0\n",
    "#         train_losses.append(avg_train_loss)\n",
    "#         train_accuracies.append(train_accuracy)\n",
    "\n",
    "#         # Validation step\n",
    "#         model.eval()\n",
    "#         val_loss = 0.0\n",
    "#         correct = 0\n",
    "#         total = 0\n",
    "#         with torch.no_grad():\n",
    "#             for batch_idx, (anchors, positives, negatives) in enumerate(val_loader):\n",
    "#                 anchors, positives, negatives = (anchors.to(device), positives.to(device), negatives.to(device),)\n",
    "#                 anchor_embeds = model(anchors)\n",
    "#                 positive_embeds = model(positives)\n",
    "#                 negative_embeds = model(negatives)\n",
    "#                 loss = triplet_loss(anchor_embeds, positive_embeds, negative_embeds, margin)\n",
    "#                 val_loss += loss.item()\n",
    "\n",
    "#                 distances = torch.pairwise_distance(anchor_embeds, positive_embeds)\n",
    "#                 predicted = (distances < margin).float()\n",
    "#                 correct += (predicted == 1).sum().item()\n",
    "#                 total += len(predicted)\n",
    "\n",
    "#         avg_val_loss = val_loss / len(val_loader)\n",
    "#         val_accuracy = 100 * correct / total if total > 0 else 0\n",
    "#         val_losses.append(avg_val_loss)\n",
    "#         val_accuracies.append(val_accuracy)\n",
    "\n",
    "#         # Adjust learning rate using the scheduler\n",
    "#         scheduler.step(avg_val_loss)\n",
    "\n",
    "#         print(f\"Epoch [{epoch+1}/{num_epochs}], Train Loss: {avg_train_loss:.4f}, Train Accuracy: {train_accuracy:.2f}%, Validation Loss: {avg_val_loss:.4f}, Validation Accuracy: {val_accuracy:.2f}%\")\n",
    "\n",
    "#     plot_learning_curves(train_losses, val_losses, val_accuracies, train_accuracies)\n"
   ]
  },
  {
   "cell_type": "code",
   "execution_count": 37,
   "metadata": {},
   "outputs": [
    {
     "name": "stdout",
     "output_type": "stream",
     "text": [
      "Epoch [1/20], Train Loss: 0.7899, Train Accuracy: 67.20%, Validation Loss: 0.7886, Validation Accuracy: 100.00%\n",
      "Epoch [2/20], Train Loss: 0.7897, Train Accuracy: 67.17%, Validation Loss: 0.7883, Validation Accuracy: 100.00%\n",
      "Epoch [3/20], Train Loss: 0.7894, Train Accuracy: 67.19%, Validation Loss: 0.7880, Validation Accuracy: 100.00%\n",
      "Epoch [4/20], Train Loss: 0.7891, Train Accuracy: 67.14%, Validation Loss: 0.7877, Validation Accuracy: 100.00%\n",
      "Epoch [5/20], Train Loss: 0.7888, Train Accuracy: 67.12%, Validation Loss: 0.7873, Validation Accuracy: 100.00%\n",
      "Epoch [6/20], Train Loss: 0.7884, Train Accuracy: 67.07%, Validation Loss: 0.7870, Validation Accuracy: 100.00%\n",
      "Epoch [7/20], Train Loss: 0.7881, Train Accuracy: 67.03%, Validation Loss: 0.7866, Validation Accuracy: 100.00%\n",
      "Epoch [8/20], Train Loss: 0.7878, Train Accuracy: 66.99%, Validation Loss: 0.7862, Validation Accuracy: 100.00%\n",
      "Epoch [9/20], Train Loss: 0.7874, Train Accuracy: 66.99%, Validation Loss: 0.7859, Validation Accuracy: 100.00%\n",
      "Epoch [10/20], Train Loss: 0.7871, Train Accuracy: 66.93%, Validation Loss: 0.7855, Validation Accuracy: 100.00%\n",
      "Epoch [11/20], Train Loss: 0.7867, Train Accuracy: 66.93%, Validation Loss: 0.7851, Validation Accuracy: 100.00%\n",
      "Epoch [12/20], Train Loss: 0.7863, Train Accuracy: 66.89%, Validation Loss: 0.7847, Validation Accuracy: 100.00%\n",
      "Epoch [13/20], Train Loss: 0.7860, Train Accuracy: 66.87%, Validation Loss: 0.7843, Validation Accuracy: 100.00%\n",
      "Epoch [14/20], Train Loss: 0.7856, Train Accuracy: 66.84%, Validation Loss: 0.7838, Validation Accuracy: 100.00%\n",
      "Epoch [15/20], Train Loss: 0.7852, Train Accuracy: 66.75%, Validation Loss: 0.7834, Validation Accuracy: 100.00%\n",
      "Epoch [16/20], Train Loss: 0.7848, Train Accuracy: 66.70%, Validation Loss: 0.7830, Validation Accuracy: 100.00%\n",
      "Epoch [17/20], Train Loss: 0.7844, Train Accuracy: 66.72%, Validation Loss: 0.7825, Validation Accuracy: 100.00%\n",
      "Epoch [18/20], Train Loss: 0.7840, Train Accuracy: 66.69%, Validation Loss: 0.7821, Validation Accuracy: 100.00%\n",
      "Epoch [19/20], Train Loss: 0.7835, Train Accuracy: 66.68%, Validation Loss: 0.7816, Validation Accuracy: 100.00%\n",
      "Epoch [20/20], Train Loss: 0.7831, Train Accuracy: 66.63%, Validation Loss: 0.7812, Validation Accuracy: 100.00%\n"
     ]
    },
    {
     "data": {
      "image/png": "[encoded data removed]",
      "text/plain": [
       "<Figure size 1200x600 with 2 Axes>"
      ]
     },
     "metadata": {},
     "output_type": "display_data"
    }
   ],
   "source": [
    "model = CustomCNN().to(device)\n",
    "optimizer = optim.SGD(model.parameters(), lr=0.00001, momentum=0.0001)\n",
    "train_model(model, train_loader, val_loader, optimizer, num_epochs=20, margin=0.8)"
   ]
  }
 ],
 "metadata": {
  "kernelspec": {
   "display_name": "env",
   "language": "python",
   "name": "python3"
  },
  "language_info": {
   "codemirror_mode": {
    "name": "ipython",
    "version": 3
   },
   "file_extension": ".py",
   "mimetype": "text/x-python",
   "name": "python",
   "nbconvert_exporter": "python",
   "pygments_lexer": "ipython3",
   "version": "3.10.0"
  }
 },
 "nbformat": 4,
 "nbformat_minor": 2
}
