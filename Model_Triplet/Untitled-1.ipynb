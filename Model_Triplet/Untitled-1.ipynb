{
 "cells": [
  {
   "cell_type": "code",
   "execution_count": 1,
   "metadata": {},
   "outputs": [],
   "source": [
    "import torch\n",
    "import torch.nn as nn\n",
    "import torch.nn.functional as F"
   ]
  },
  {
   "cell_type": "code",
   "execution_count": 2,
   "metadata": {},
   "outputs": [],
   "source": [
    "class CustomCNN(nn.Module):\n",
    "    def __init__(self):\n",
    "        super(CustomCNN, self).__init__()\n",
    "        \n",
    "        # First convolution layer: 7x7 kernel, stride 5, zero padding, 12 channels\n",
    "        self.conv1 = nn.Conv2d(in_channels=3, out_channels=12, kernel_size=7, stride=5, padding=0)\n",
    "        self.pool1 = nn.MaxPool2d(kernel_size=2, stride=2)\n",
    "        \n",
    "        # Second convolution layer: 3x3 kernel, stride 1, 24 channels\n",
    "        self.conv2 = nn.Conv2d(in_channels=12, out_channels=24, kernel_size=3, stride=1)\n",
    "        \n",
    "        # Third convolution layer: 3x3 kernel, stride 2, 32 channels\n",
    "        self.conv3 = nn.Conv2d(in_channels=24, out_channels=32, kernel_size=3, stride=2)\n",
    "        self.pool2 = nn.MaxPool2d(kernel_size=2, stride=2)\n",
    "        \n",
    "        # Fourth convolution layer: 3x3 kernel, stride 2, 64 channels\n",
    "        self.conv4 = nn.Conv2d(in_channels=32, out_channels=64, kernel_size=3, stride=2)\n",
    "        self.pool3 = nn.MaxPool2d(kernel_size=3, stride=3)\n",
    "        \n",
    "        # Adaptive pooling or Flatten for embedding output\n",
    "        self.global_pool = nn.AdaptiveAvgPool2d((1, 1))\n",
    "        self.fc = nn.Flatten()\n",
    "\n",
    "    def forward(self, x):\n",
    "        x = F.relu(self.conv1(x))\n",
    "        x = self.pool1(x)\n",
    "        \n",
    "        x = F.relu(self.conv2(x))\n",
    "        x = F.relu(self.conv3(x))\n",
    "        x = self.pool2(x)\n",
    "        \n",
    "        x = F.relu(self.conv4(x))\n",
    "        x = self.pool3(x)\n",
    "        \n",
    "        x = self.global_pool(x)\n",
    "        x = self.fc(x)\n",
    "        return x"
   ]
  },
  {
   "cell_type": "code",
   "execution_count": 4,
   "metadata": {},
   "outputs": [],
   "source": [
    "def triplet_loss(anchor, positive, negative, margin=1.0):\n",
    "    \"\"\"\n",
    "    Compute the triplet loss:\n",
    "    Loss = max(||anchor - positive||^2 - ||anchor - negative||^2 + margin, 0)\n",
    "    \"\"\"\n",
    "    positive_dist = F.pairwise_distance(anchor, positive, p=2)\n",
    "    negative_dist = F.pairwise_distance(anchor, negative, p=2)\n",
    "    loss = torch.relu(positive_dist - negative_dist + margin)\n",
    "    return loss.mean()"
   ]
  },
  {
   "cell_type": "code",
   "execution_count": null,
   "metadata": {},
   "outputs": [
    {
     "name": "stdout",
     "output_type": "stream",
     "text": [
      "Triplet Loss: 1.0008314847946167\n"
     ]
    }
   ],
   "source": [
    "if __name__ == \"__main__\":\n",
    "    model = CustomCNN()\n",
    "    \n",
    "    # Dummy input: Anchor, Positive, Negative\n",
    "    anchor = torch.randn(1, 3, 320, 320)  # Batch size 1, 3 channels, 320x320\n",
    "    positive = torch.randn(1, 3, 320, 320)\n",
    "    negative = torch.randn(1, 3, 320, 320)\n",
    "    \n",
    "    # Forward pass through the model\n",
    "    anchor_embedding = model(anchor)\n",
    "    positive_embedding = model(positive)\n",
    "    negative_embedding = model(negative)\n",
    "    \n",
    "    # Compute triplet loss\n",
    "    loss = triplet_loss(anchor_embedding, positive_embedding, negative_embedding)\n",
    "    print(f\"Triplet Loss: {loss.item()}\")"
   ]
  }
 ],
 "metadata": {
  "kernelspec": {
   "display_name": "env",
   "language": "python",
   "name": "python3"
  },
  "language_info": {
   "codemirror_mode": {
    "name": "ipython",
    "version": 3
   },
   "file_extension": ".py",
   "mimetype": "text/x-python",
   "name": "python",
   "nbconvert_exporter": "python",
   "pygments_lexer": "ipython3",
   "version": "3.10.0"
  }
 },
 "nbformat": 4,
 "nbformat_minor": 2
}
